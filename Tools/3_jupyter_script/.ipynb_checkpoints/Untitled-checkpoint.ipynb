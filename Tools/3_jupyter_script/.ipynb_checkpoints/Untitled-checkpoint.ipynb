{
 "cells": [
  {
   "cell_type": "markdown",
   "metadata": {},
   "source": [
    "\n",
    "# Initialize model and TRUE run"
   ]
  },
  {
   "cell_type": "markdown",
   "metadata": {},
   "source": [
    "## First import libs and define paths"
   ]
  },
  {
   "cell_type": "code",
   "execution_count": 1,
   "metadata": {},
   "outputs": [],
   "source": [
    "import dassflow2d as df2d\n",
    "import numpy as np\n",
    "import pandas as pd\n",
    "import sys\n",
    "import os\n",
    "import random\n",
    "from matplotlib.colors import ListedColormap\n",
    "dassflow_dir = \"/home/livillenave/Documents/distant/dassflow2d-wrap/\"\n",
    "bin_dir =  dassflow_dir + \"code/bin_A\"\n",
    "os.chdir(bin_dir)\n",
    "run_type = \"direct\""
   ]
  },
  {
   "cell_type": "markdown",
   "metadata": {},
   "source": [
    "### Define default initial values for true run + extract sizes from test case (text files)"
   ]
  },
  {
   "cell_type": "code",
   "execution_count": null,
   "metadata": {},
   "outputs": [],
   "source": [
    "model = df2d.dassflowmodel(bin_dir = os.getcwd(), \n",
    "                           hdf5_path=os.getcwd()+\"/res/simu.hdf5\", \n",
    "                           run_type = run_type,\n",
    "                           clean=True)\n",
    "\n",
    "# SET UP MANNING VALUE\n",
    "model.config[\"use_obs\"] = 0\n",
    "model.config[\"w_obs\"] = 1\n",
    "model.config.set()\n",
    "\n",
    "model.init_fortran_mpi()\n",
    "model.run()\n",
    "init_values = model.outputs.all_res[0].copy()\n",
    "reference_manning = model.param.friction.manning.copy()\n",
    "df2d.wrapping.call_model.clean_model(self = model.kernel)"
   ]
  },
  {
   "cell_type": "code",
   "execution_count": null,
   "metadata": {},
   "outputs": [],
   "source": []
  },
  {
   "cell_type": "code",
   "execution_count": null,
   "metadata": {},
   "outputs": [],
   "source": []
  },
  {
   "cell_type": "code",
   "execution_count": null,
   "metadata": {},
   "outputs": [],
   "source": []
  },
  {
   "cell_type": "code",
   "execution_count": null,
   "metadata": {},
   "outputs": [],
   "source": []
  },
  {
   "cell_type": "code",
   "execution_count": null,
   "metadata": {},
   "outputs": [],
   "source": []
  },
  {
   "cell_type": "code",
   "execution_count": null,
   "metadata": {},
   "outputs": [],
   "source": []
  },
  {
   "cell_type": "code",
   "execution_count": null,
   "metadata": {},
   "outputs": [],
   "source": []
  }
 ],
 "metadata": {
  "kernelspec": {
   "display_name": "Python 3",
   "language": "python",
   "name": "python3"
  },
  "language_info": {
   "codemirror_mode": {
    "name": "ipython",
    "version": 3
   },
   "file_extension": ".py",
   "mimetype": "text/x-python",
   "name": "python",
   "nbconvert_exporter": "python",
   "pygments_lexer": "ipython3",
   "version": "3.8.10"
  }
 },
 "nbformat": 4,
 "nbformat_minor": 4
}
