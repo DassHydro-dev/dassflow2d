{
 "cells": [
  {
   "cell_type": "markdown",
   "metadata": {},
   "source": [
    "## Import librairies"
   ]
  },
  {
   "cell_type": "code",
   "execution_count": 1,
   "metadata": {},
   "outputs": [],
   "source": [
    "import dassflow2d as df2d\n",
    "import numpy as np\n",
    "import sys\n",
    "import os\n",
    "import h5py"
   ]
  },
  {
   "cell_type": "markdown",
   "metadata": {},
   "source": [
    "## Define basic parameters"
   ]
  },
  {
   "cell_type": "code",
   "execution_count": 2,
   "metadata": {},
   "outputs": [],
   "source": [
    "run_type = \"direct\"\n",
    "# runtype :\n",
    "# - rundirect runmin, \n",
    "# - classic treatment, \n",
    "# - if runtype = runminpython \n",
    "dassflow_dir=\"/home/livillenave/Documents/distant/dassflow2d-wrap\""
   ]
  },
  {
   "cell_type": "markdown",
   "metadata": {},
   "source": [
    "## run main2"
   ]
  },
  {
   "cell_type": "markdown",
   "metadata": {},
   "source": [
    "### model setup"
   ]
  },
  {
   "cell_type": "code",
   "execution_count": 3,
   "metadata": {},
   "outputs": [
    {
     "name": "stdout",
     "output_type": "stream",
     "text": [
      "clean= True\n"
     ]
    },
    {
     "ename": "ValueError",
     "evalue": "could not broadcast input array from shape (2,) into shape (1,)",
     "output_type": "error",
     "traceback": [
      "\u001b[0;31m---------------------------------------------------------------------------\u001b[0m",
      "\u001b[0;31mValueError\u001b[0m                                Traceback (most recent call last)",
      "\u001b[0;32m<ipython-input-3-29a75172167b>\u001b[0m in \u001b[0;36m<module>\u001b[0;34m\u001b[0m\n\u001b[1;32m     22\u001b[0m     \u001b[0;31m# addapt my_model.param.friction.manning[\"mesh_correspondance\"]\u001b[0m\u001b[0;34m\u001b[0m\u001b[0;34m\u001b[0m\u001b[0;34m\u001b[0m\u001b[0m\n\u001b[1;32m     23\u001b[0m         \u001b[0;31m# done\u001b[0m\u001b[0;34m\u001b[0m\u001b[0;34m\u001b[0m\u001b[0;34m\u001b[0m\u001b[0m\n\u001b[0;32m---> 24\u001b[0;31m     \u001b[0mmy_model\u001b[0m\u001b[0;34m.\u001b[0m\u001b[0mparam\u001b[0m\u001b[0;34m.\u001b[0m\u001b[0mset\u001b[0m\u001b[0;34m(\u001b[0m\u001b[0;34m)\u001b[0m\u001b[0;34m\u001b[0m\u001b[0;34m\u001b[0m\u001b[0m\n\u001b[0m",
      "\u001b[0;32m~/.local/lib/python3.8/site-packages/dassflow2d/core/param.py\u001b[0m in \u001b[0;36mset\u001b[0;34m(self)\u001b[0m\n\u001b[1;32m    122\u001b[0m \u001b[0;34m\u001b[0m\u001b[0m\n\u001b[1;32m    123\u001b[0m     \u001b[0;32mdef\u001b[0m \u001b[0mset\u001b[0m\u001b[0;34m(\u001b[0m\u001b[0mself\u001b[0m\u001b[0;34m)\u001b[0m\u001b[0;34m:\u001b[0m\u001b[0;34m\u001b[0m\u001b[0;34m\u001b[0m\u001b[0m\n\u001b[0;32m--> 124\u001b[0;31m         \u001b[0mself\u001b[0m\u001b[0;34m.\u001b[0m\u001b[0mfriction\u001b[0m\u001b[0;34m.\u001b[0m\u001b[0mset_manning\u001b[0m\u001b[0;34m(\u001b[0m\u001b[0;34m)\u001b[0m\u001b[0;34m\u001b[0m\u001b[0;34m\u001b[0m\u001b[0m\n\u001b[0m\u001b[1;32m    125\u001b[0m \u001b[0;34m\u001b[0m\u001b[0m\n\u001b[1;32m    126\u001b[0m \u001b[0;34m\u001b[0m\u001b[0m\n",
      "\u001b[0;32m~/.local/lib/python3.8/site-packages/dassflow2d/core/param.py\u001b[0m in \u001b[0;36mset_manning\u001b[0;34m(self)\u001b[0m\n\u001b[1;32m     68\u001b[0m             \u001b[0mself\u001b[0m\u001b[0;34m.\u001b[0m\u001b[0mmanning\u001b[0m \u001b[0;34m=\u001b[0m \u001b[0mbuffer_manning\u001b[0m\u001b[0;34m.\u001b[0m\u001b[0mcopy\u001b[0m\u001b[0;34m(\u001b[0m\u001b[0;34m)\u001b[0m\u001b[0;34m\u001b[0m\u001b[0;34m\u001b[0m\u001b[0m\n\u001b[1;32m     69\u001b[0m             \u001b[0;31m# set manning values in fortran kernel\u001b[0m\u001b[0;34m\u001b[0m\u001b[0;34m\u001b[0m\u001b[0;34m\u001b[0m\u001b[0m\n\u001b[0;32m---> 70\u001b[0;31m             \u001b[0mdassflow2d\u001b[0m\u001b[0;34m.\u001b[0m\u001b[0mwrapping\u001b[0m\u001b[0;34m.\u001b[0m\u001b[0mm_model\u001b[0m\u001b[0;34m.\u001b[0m\u001b[0mmanning\u001b[0m\u001b[0;34m[\u001b[0m\u001b[0;34m...\u001b[0m\u001b[0;34m]\u001b[0m  \u001b[0;34m=\u001b[0m \u001b[0mself\u001b[0m\u001b[0;34m.\u001b[0m\u001b[0mmanning\u001b[0m\u001b[0;34m[\u001b[0m\u001b[0;34m\"patch_value\"\u001b[0m\u001b[0;34m]\u001b[0m\u001b[0;34m\u001b[0m\u001b[0;34m\u001b[0m\u001b[0m\n\u001b[0m\u001b[1;32m     71\u001b[0m \u001b[0;34m\u001b[0m\u001b[0m\n\u001b[1;32m     72\u001b[0m             \u001b[0;31m# set land use correspondance in fortran kernel\u001b[0m\u001b[0;34m\u001b[0m\u001b[0;34m\u001b[0m\u001b[0;34m\u001b[0m\u001b[0m\n",
      "\u001b[0;31mValueError\u001b[0m: could not broadcast input array from shape (2,) into shape (1,)"
     ]
    }
   ],
   "source": [
    "if run_type == \"min\" or run_type == \"direct\":\n",
    "\n",
    "    # initialise fortran instance, and python corrponding data\n",
    "    my_model = df2d.dassflowmodel(\n",
    "            dassflow_dir = dassflow_dir,\n",
    "            bin_dir = f\"{dassflow_dir}/code/bin_A\", \n",
    "            run_type = run_type,\n",
    "            clean= True)\n",
    "            \n",
    "    # then intialise meshing\n",
    "    my_model.init_mesh()\n",
    "    # initialise dof structure\n",
    "    my_model.init_dof() \n",
    "    # initialise remaining structures\n",
    "    my_model.init_fortran()\n",
    "    \n",
    "    my_model.param =df2d.core.param.Param()    \n",
    "    my_model.param.get()\n",
    "        # update manning values and patches\n",
    "    #my_model.param.friction.manning[\"patch_value\"] = np.array([0.33,0.5])\n",
    "    #my_model.param.friction.manning[\"patch_correspondance\"] = np.array([1,2])\n",
    "    # addapt my_model.param.friction.manning[\"mesh_correspondance\"] \n",
    "        # done\n",
    "    my_model.param.set()"
   ]
  },
  {
   "cell_type": "markdown",
   "metadata": {},
   "source": [
    "### check inputs"
   ]
  },
  {
   "cell_type": "markdown",
   "metadata": {},
   "source": [
    "#### Config"
   ]
  },
  {
   "cell_type": "code",
   "execution_count": null,
   "metadata": {},
   "outputs": [],
   "source": [
    "from pprint import pprint; pprint(my_model.config)"
   ]
  },
  {
   "cell_type": "markdown",
   "metadata": {},
   "source": [
    "#### Meshing"
   ]
  },
  {
   "cell_type": "code",
   "execution_count": null,
   "metadata": {},
   "outputs": [],
   "source": [
    "my_model.meshing.plot()"
   ]
  },
  {
   "cell_type": "code",
   "execution_count": null,
   "metadata": {},
   "outputs": [],
   "source": [
    "%%capture\n",
    "my_model.meshing.plot_dev(what = \"cell\")\n",
    "my_model.meshing.plot_dev(what = \"node\")\n",
    "my_model.meshing.plot_dev(what = \"edge\")"
   ]
  },
  {
   "cell_type": "markdown",
   "metadata": {},
   "source": [
    "#### Boundaries"
   ]
  },
  {
   "cell_type": "code",
   "execution_count": null,
   "metadata": {},
   "outputs": [],
   "source": [
    "my_model.boundary.plot(what = \"meshing\")\n",
    "my_model.boundary.plot(what = \"values\")"
   ]
  },
  {
   "cell_type": "markdown",
   "metadata": {},
   "source": [
    "### parameters"
   ]
  },
  {
   "cell_type": "markdown",
   "metadata": {},
   "source": [
    "#### Bathymetry"
   ]
  },
  {
   "cell_type": "code",
   "execution_count": null,
   "metadata": {},
   "outputs": [],
   "source": [
    "bathy_cell = df2d.wrapping.m_model.get_array_bathy_cell()\n",
    "bathy_cell = bathy_cell[:my_model.meshing.mesh_fortran.nc] #remove ghost cells\n",
    "my_model.meshing.plot(my_scalar =bathy_cell )"
   ]
  },
  {
   "cell_type": "markdown",
   "metadata": {},
   "source": [
    "#### friction "
   ]
  },
  {
   "cell_type": "code",
   "execution_count": null,
   "metadata": {},
   "outputs": [],
   "source": [
    "# patch correspondance on mesh\n",
    "my_model.meshing.plot(my_scalar = my_model.param.friction.manning[\"mesh_correspondance\"])\n",
    "\n",
    "# tables of value\n",
    "print(\"patch correspondance\")\n",
    "print(my_model.param.friction.manning[\"patch_correspondance\"])\n",
    "print(\"patch value\")\n",
    "print(my_model.param.friction.manning[\"patch_value\"])"
   ]
  },
  {
   "cell_type": "markdown",
   "metadata": {},
   "source": [
    "### Initial conditions"
   ]
  },
  {
   "cell_type": "markdown",
   "metadata": {},
   "source": [
    "#### water height (h)"
   ]
  },
  {
   "cell_type": "code",
   "execution_count": null,
   "metadata": {},
   "outputs": [],
   "source": [
    "h = my_model.kernel.dof0.h\n",
    "h = bathy_cell[:my_model.meshing.mesh_fortran.nc] #remove ghost cells\n",
    "my_model.meshing.plot(my_scalar =h )"
   ]
  },
  {
   "cell_type": "markdown",
   "metadata": {},
   "source": [
    "#### x velocity (u)"
   ]
  },
  {
   "cell_type": "code",
   "execution_count": null,
   "metadata": {},
   "outputs": [],
   "source": [
    "u = my_model.kernel.dof0.u\n",
    "u = bathy_cell[:my_model.meshing.mesh_fortran.nc] #remove ghost cells\n",
    "my_model.meshing.plot(my_scalar =u )"
   ]
  },
  {
   "cell_type": "markdown",
   "metadata": {},
   "source": [
    "#### y velocity (v)"
   ]
  },
  {
   "cell_type": "code",
   "execution_count": null,
   "metadata": {},
   "outputs": [],
   "source": [
    "v = my_model.kernel.dof0.v\n",
    "v = bathy_cell[:my_model.meshing.mesh_fortran.nc] #remove ghost cells\n",
    "my_model.meshing.plot(my_scalar =v )"
   ]
  },
  {
   "cell_type": "markdown",
   "metadata": {},
   "source": [
    "### model run"
   ]
  },
  {
   "cell_type": "code",
   "execution_count": null,
   "metadata": {},
   "outputs": [],
   "source": [
    "my_model.run()"
   ]
  },
  {
   "cell_type": "markdown",
   "metadata": {},
   "source": [
    "### Save results"
   ]
  },
  {
   "cell_type": "code",
   "execution_count": null,
   "metadata": {},
   "outputs": [],
   "source": [
    "hdf5_path = f\"{my_model.bin_dir}/res/simu.hdf5\"\n",
    "my_model.outputs.save_res(hdf5_path)\n",
    "my_model.config.save(hdf5_path)\n",
    "my_model.meshing.save(fmt = \"hdf5\", hdf5_path =hdf5_path)\n",
    "my_model.boundary.save(hdf5_path =hdf5_path)\n",
    "my_model.param.save(hdf5_path =hdf5_path)"
   ]
  }
 ],
 "metadata": {
  "kernelspec": {
   "display_name": "Python 3",
   "language": "python",
   "name": "python3"
  },
  "language_info": {
   "codemirror_mode": {
    "name": "ipython",
    "version": 3
   },
   "file_extension": ".py",
   "mimetype": "text/x-python",
   "name": "python",
   "nbconvert_exporter": "python",
   "pygments_lexer": "ipython3",
   "version": "3.8.10"
  }
 },
 "nbformat": 4,
 "nbformat_minor": 4
}
